{
 "cells": [
  {
   "cell_type": "code",
   "execution_count": 1,
   "metadata": {},
   "outputs": [],
   "source": [
    "import wordle_env"
   ]
  },
  {
   "cell_type": "code",
   "execution_count": 2,
   "metadata": {},
   "outputs": [],
   "source": [
    "env = wordle_env.WordleEnv()"
   ]
  },
  {
   "cell_type": "code",
   "execution_count": 4,
   "metadata": {},
   "outputs": [
    {
     "data": {
      "text/plain": [
       "97"
      ]
     },
     "execution_count": 4,
     "metadata": {},
     "output_type": "execute_result"
    }
   ],
   "source": [
    "offset = ord('a')\n",
    "offset"
   ]
  },
  {
   "cell_type": "code",
   "execution_count": 5,
   "metadata": {},
   "outputs": [
    {
     "name": "stdout",
     "output_type": "stream",
     "text": [
      "(7, 20, 5, 5, 18)\n",
      "huffs\n"
     ]
    }
   ],
   "source": [
    "obs = env.reset()\n",
    "print(env.hidden_word)\n",
    "unencoded_hidden_word = \"\".join(chr(char + offset) for char in env.hidden_word)\n",
    "print(unencoded_hidden_word)"
   ]
  },
  {
   "cell_type": "code",
   "execution_count": 7,
   "metadata": {},
   "outputs": [
    {
     "name": "stdout",
     "output_type": "stream",
     "text": [
      "Guess 1: [23  9  6 12 10]\n",
      "[[ 0  0  0  0  0]\n",
      " [-1 -1 -1 -1 -1]\n",
      " [-1 -1 -1 -1 -1]\n",
      " [-1 -1 -1 -1 -1]\n",
      " [-1 -1 -1 -1 -1]\n",
      " [-1 -1 -1 -1 -1]]\n",
      "[-1 -1 -1 -1 -1 -1  0 -1 -1  0  0 -1  0 -1 -1 -1 -1 -1 -1 -1 -1 -1 -1  0\n",
      " -1 -1]\n",
      "reward: 0.0\n",
      "done: False\n",
      "guesses left: 5\n",
      "Guess 2: [ 0  5 10 18  8]\n",
      "[[ 0  0  0  0  0]\n",
      " [ 0  1  0  1  0]\n",
      " [-1 -1 -1 -1 -1]\n",
      " [-1 -1 -1 -1 -1]\n",
      " [-1 -1 -1 -1 -1]\n",
      " [-1 -1 -1 -1 -1]]\n",
      "[ 0 -1 -1 -1 -1  1  0 -1  0  0  0 -1  0 -1 -1 -1 -1 -1  1 -1 -1 -1 -1  0\n",
      " -1 -1]\n",
      "reward: 0.0\n",
      "done: False\n",
      "guesses left: 4\n",
      "Guess 3: [16 20 24  9 21]\n",
      "[[ 0  0  0  0  0]\n",
      " [ 0  1  0  1  0]\n",
      " [ 0  2  0  0  0]\n",
      " [-1 -1 -1 -1 -1]\n",
      " [-1 -1 -1 -1 -1]\n",
      " [-1 -1 -1 -1 -1]]\n",
      "[ 0 -1 -1 -1 -1  1  0 -1  0  0  0 -1  0 -1 -1 -1  0 -1  1 -1  2  0 -1  0\n",
      "  0 -1]\n",
      "reward: 0.0\n",
      "done: False\n",
      "guesses left: 3\n",
      "Guess 4: [ 6 24 11 24  1]\n",
      "[[ 0  0  0  0  0]\n",
      " [ 0  1  0  1  0]\n",
      " [ 0  2  0  0  0]\n",
      " [ 0  0  0  0  0]\n",
      " [-1 -1 -1 -1 -1]\n",
      " [-1 -1 -1 -1 -1]]\n",
      "[ 0  0 -1 -1 -1  1  0 -1  0  0  0  0  0 -1 -1 -1  0 -1  1 -1  2  0 -1  0\n",
      "  0 -1]\n",
      "reward: 0.0\n",
      "done: False\n",
      "guesses left: 2\n",
      "Guess 5: [19 23  6  2 24]\n",
      "[[ 0  0  0  0  0]\n",
      " [ 0  1  0  1  0]\n",
      " [ 0  2  0  0  0]\n",
      " [ 0  0  0  0  0]\n",
      " [ 0  0  0  0  0]\n",
      " [-1 -1 -1 -1 -1]]\n",
      "[ 0  0  0 -1 -1  1  0 -1  0  0  0  0  0 -1 -1 -1  0 -1  1  0  2  0 -1  0\n",
      "  0 -1]\n",
      "reward: 0.0\n",
      "done: False\n",
      "guesses left: 1\n",
      "Guess 6: [17  6  2 14  2]\n",
      "[[0 0 0 0 0]\n",
      " [0 1 0 1 0]\n",
      " [0 2 0 0 0]\n",
      " [0 0 0 0 0]\n",
      " [0 0 0 0 0]\n",
      " [0 0 0 0 0]]\n",
      "[ 0  0  0 -1 -1  1  0 -1  0  0  0  0  0 -1  0 -1  0  0  1  0  2  0 -1  0\n",
      "  0 -1]\n",
      "reward: -1.0\n",
      "done: True\n",
      "guesses left: 0\n"
     ]
    }
   ],
   "source": [
    "done = False\n",
    "i = 1\n",
    "while not done:\n",
    "    \n",
    "    # make a guess\n",
    "    guess = env.action_space.sample()\n",
    "    print(f\"Guess {i}: {guess}\")\n",
    "    \n",
    "    # take a step\n",
    "    obs, reward, done, _ = env.step(guess)\n",
    "    \n",
    "    # log obs to console\n",
    "    print(f\"{obs[0]}\\n{obs[1]}\\nreward: {reward}\\ndone: {done}\\nguesses left: {obs[2]}\")\n",
    "    \n",
    "    i += 1"
   ]
  },
  {
   "cell_type": "code",
   "execution_count": null,
   "metadata": {},
   "outputs": [],
   "source": []
  }
 ],
 "metadata": {
  "kernelspec": {
   "display_name": "Python 3",
   "language": "python",
   "name": "python3"
  },
  "language_info": {
   "codemirror_mode": {
    "name": "ipython",
    "version": 3
   },
   "file_extension": ".py",
   "mimetype": "text/x-python",
   "name": "python",
   "nbconvert_exporter": "python",
   "pygments_lexer": "ipython3",
   "version": "3.8.1"
  }
 },
 "nbformat": 4,
 "nbformat_minor": 4
}
